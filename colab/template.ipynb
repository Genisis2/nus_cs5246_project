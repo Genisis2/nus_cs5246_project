{
 "cells": [
  {
   "attachments": {},
   "cell_type": "markdown",
   "metadata": {},
   "source": [
    "# Template Notebook for Running Code on Google Colab"
   ]
  },
  {
   "cell_type": "code",
   "execution_count": null,
   "metadata": {},
   "outputs": [],
   "source": [
    "# Clone repository\n",
    "CODE_TEMP = './_temp'\n",
    "CODE_BRANCH = 'main'\n",
    "\n",
    "!git clone -b $CODE_BRANCH --single-branch https://github.com/Genisis2/nus_cs5246_project.git $CODE_TEMP\n",
    "\n",
    "# Explode it in the workspace and remove temp\n",
    "!mv -f $CODE_TEMP/* . && mv -f $CODE_TEMP/.* .\n",
    "!rm -rf $CODE_TEMP\n",
    "\n",
    "# Install requirements\n",
    "!pip install -r requirements.txt"
   ]
  }
 ],
 "metadata": {
  "language_info": {
   "name": "python"
  },
  "orig_nbformat": 4
 },
 "nbformat": 4,
 "nbformat_minor": 2
}
