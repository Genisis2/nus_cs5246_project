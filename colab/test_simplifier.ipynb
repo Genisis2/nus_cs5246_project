{
 "cells": [
  {
   "attachments": {},
   "cell_type": "markdown",
   "metadata": {},
   "source": [
    "# Template Notebook for Running Code on Google Colab"
   ]
  },
  {
   "attachments": {},
   "cell_type": "markdown",
   "metadata": {},
   "source": [
    "Run the notebook on `https://colab.research.google.com/`.<br>\n",
    "Remember to set Runtime > Change runtime type > Hardware Accelerator > GPU."
   ]
  },
  {
   "attachments": {},
   "cell_type": "markdown",
   "metadata": {},
   "source": [
    "## Notebook Initialization"
   ]
  },
  {
   "cell_type": "code",
   "execution_count": null,
   "metadata": {},
   "outputs": [],
   "source": [
    "# Python version can't be set on Google Colab\n",
    "!python --version"
   ]
  },
  {
   "cell_type": "code",
   "execution_count": null,
   "metadata": {},
   "outputs": [],
   "source": [
    "# Clone repository\n",
    "CODE_TEMP = './_temp'\n",
    "# CODE_BRANCH = 'main'\n",
    "CODE_BRANCH = 'access-facebook'\n",
    "\n",
    "!git clone -b $CODE_BRANCH --recurse-submodules --single-branch https://github.com/Genisis2/nus_cs5246_project.git $CODE_TEMP\n",
    "\n",
    "# Explode it in the workspace and remove temp\n",
    "!mv -f $CODE_TEMP/* . && mv -f $CODE_TEMP/.* .\n",
    "!rm -rf $CODE_TEMP\n",
    "\n",
    "# Setup git redirect\n",
    "!git config --global url.https://github.com/.insteadOf git://github.com/\n",
    "\n",
    "# Install requirements\n",
    "!pip install -U pip setuptools\n",
    "!pip install -r requirements-cuda.txt\n",
    "\n",
    "# Restart kernel so imported modules are available\n",
    "print(\"Restarting kernel. Run the next cell manually.\")\n",
    "import time\n",
    "time.sleep(2)\n",
    "import os\n",
    "os.kill(os.getpid(), 9)"
   ]
  },
  {
   "attachments": {},
   "cell_type": "markdown",
   "metadata": {},
   "source": [
    "## Testing Simplifier"
   ]
  },
  {
   "cell_type": "code",
   "execution_count": null,
   "metadata": {},
   "outputs": [],
   "source": [
    "%load_ext autoreload\n",
    "%autoreload 2"
   ]
  },
  {
   "cell_type": "code",
   "execution_count": null,
   "metadata": {},
   "outputs": [],
   "source": [
    "from simplertimes import simplify\n",
    "\n",
    "# Create the ACCESS simplifier model\n",
    "access_simplifier = simplify.create_simplifier()\n",
    "\n",
    "access_simplifier.print_details()"
   ]
  },
  {
   "cell_type": "code",
   "execution_count": null,
   "metadata": {},
   "outputs": [],
   "source": [
    "# to_simplify = [\n",
    "#     \"The Palestinian Authority formally becomes the 123rd member of the International Criminal Court .<n>The move gives the court jurisdiction over alleged crimes in Palestinian territories .<n>Palestinians signed the ICC's founding Rome Statute in January .\",\n",
    "#     'Theia, a white-and-black bully breed mix, was apparently hit by a car and buried in a field .<n>Four days later, the dog staggers to a farm and is taken in by a worker .<n>She needs surgery to fix a dislocated jaw and a caved-in sinus cavity .',\n",
    "#     \"Mohammad Javad Zarif is the Iranian foreign minister .<n>He is the opposite number in talks with the U.S. over Iran's nuclear program .<n>He received a hero's welcome as he arrived in Iran on a sunny Friday morning .\"\n",
    "# ]\n",
    "\n",
    "to_simplify = [\n",
    "    \"The Palestinian Authority becomes the 123rd member of the International Criminal Court. The move gives the court jurisdiction over alleged crimes in Palestinian territories. Israel and the United States opposed the Palestinians' efforts to join the body. But Palestinian Foreign Minister Riad al-Malki said it was a move toward greater justice.\",\n",
    "    'Theia, a one-year-old bully breed mix, was hit by a car and buried in a field. She managed to stagger to a nearby farm, dirt-covered and emaciated. She suffered a dislocated jaw, leg injuries and a caved-in sinus cavity.',\n",
    "    \"Mohammad Javad Zarif is the Iranian foreign minister. He has been John Kerry's opposite number in securing a breakthrough in nuclear discussions. He received a hero's welcome as he arrived in Iran on a sunny Friday morning. But there are some facts about Zarif that are less well-known.\"\n",
    "]"
   ]
  },
  {
   "cell_type": "code",
   "execution_count": null,
   "metadata": {},
   "outputs": [],
   "source": [
    "simplified, source = access_simplifier.simplify_document(to_simplify, True)"
   ]
  }
 ],
 "metadata": {
  "language_info": {
   "name": "python"
  },
  "orig_nbformat": 4
 },
 "nbformat": 4,
 "nbformat_minor": 2
}
