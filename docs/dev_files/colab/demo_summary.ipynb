{
 "cells": [
  {
   "attachments": {},
   "cell_type": "markdown",
   "metadata": {},
   "source": [
    "# Google Colab - Summarization Demo"
   ]
  },
  {
   "attachments": {},
   "cell_type": "markdown",
   "metadata": {},
   "source": [
    "Run the notebook on `https://colab.research.google.com/`.<br>\n",
    "Remember to set Runtime > Change runtime type > Hardware Accelerator > GPU."
   ]
  },
  {
   "attachments": {},
   "cell_type": "markdown",
   "metadata": {},
   "source": [
    "## Initialize"
   ]
  },
  {
   "cell_type": "code",
   "execution_count": null,
   "metadata": {},
   "outputs": [],
   "source": [
    "# Python version can't be set on Google Colab\n",
    "!python --version"
   ]
  },
  {
   "cell_type": "code",
   "execution_count": null,
   "metadata": {},
   "outputs": [],
   "source": [
    "%load_ext autoreload\n",
    "%autoreload"
   ]
  },
  {
   "cell_type": "code",
   "execution_count": null,
   "metadata": {},
   "outputs": [],
   "source": [
    "# Clone repository\n",
    "CODE_TEMP = './_temp'\n",
    "CODE_BRANCH = 'main'\n",
    "\n",
    "!git clone -b $CODE_BRANCH --recurse-submodules --single-branch https://github.com/Genisis2/nus_cs5246_project.git $CODE_TEMP\n",
    "\n",
    "# Explode it in the workspace and remove temp\n",
    "!mv -f $CODE_TEMP/* . && mv -f $CODE_TEMP/.* .\n",
    "!rm -rf $CODE_TEMP\n",
    "\n",
    "# Setup git redirect\n",
    "!git config --global url.https://github.com/.insteadOf git://github.com/\n",
    "\n",
    "# Install requirements\n",
    "!pip install -U pip setuptools\n",
    "!pip install -r requirements-cuda.txt\n",
    "\n",
    "# Restart kernel so imported modules are available\n",
    "print(\"Restarting kernel. Run the next cell manually.\")\n",
    "import time\n",
    "time.sleep(2)\n",
    "import os\n",
    "os.kill(os.getpid(), 9)"
   ]
  },
  {
   "attachments": {},
   "cell_type": "markdown",
   "metadata": {},
   "source": [
    "## Dataset"
   ]
  },
  {
   "cell_type": "code",
   "execution_count": null,
   "metadata": {},
   "outputs": [],
   "source": [
    "from simplertimes import data\n",
    "\n",
    "# Display information on the dataset\n",
    "data.describe_cnn_dm_dataset()"
   ]
  },
  {
   "cell_type": "code",
   "execution_count": null,
   "metadata": {},
   "outputs": [],
   "source": [
    "# Get a few samples of the test dataset\n",
    "three_samples = data.load_cnn_dm_dataset(split='test')[:3]\n",
    "for idx in range(3):\n",
    "    print(f\"{idx+1}:\\n    article: {three_samples['article'][idx]}\\n    highlight: {three_samples['highlights'][idx]}\")"
   ]
  },
  {
   "attachments": {},
   "cell_type": "markdown",
   "metadata": {},
   "source": [
    "## Summarize"
   ]
  },
  {
   "cell_type": "code",
   "execution_count": null,
   "metadata": {},
   "outputs": [],
   "source": [
    "from simplertimes import summarize\n",
    "\n",
    "# Create a BART model\n",
    "bart_summarizer = summarize.create_summarizer(summarize.BART_MODEL_ID)\n",
    "!nvidia-smi"
   ]
  },
  {
   "cell_type": "code",
   "execution_count": null,
   "metadata": {},
   "outputs": [],
   "source": [
    "bart_summarizer.print_details()"
   ]
  },
  {
   "cell_type": "code",
   "execution_count": null,
   "metadata": {},
   "outputs": [],
   "source": [
    "# Perform inference using bart\n",
    "bart_summaries = bart_summarizer.generate_summary(three_samples[\"article\"])\n",
    "\n",
    "# Remove BART model from memory\n",
    "del bart_summarizer\n",
    "import torch\n",
    "torch.cuda.empty_cache()\n",
    "!nvidia-smi"
   ]
  },
  {
   "cell_type": "code",
   "execution_count": null,
   "metadata": {},
   "outputs": [],
   "source": [
    "# Create a PEGASUS model\n",
    "peg_summarizer = summarize.create_summarizer(summarize.PEGASUS_MODEL_ID)\n",
    "!nvidia-smi"
   ]
  },
  {
   "cell_type": "code",
   "execution_count": null,
   "metadata": {},
   "outputs": [],
   "source": [
    "peg_summarizer.print_details()"
   ]
  },
  {
   "cell_type": "code",
   "execution_count": null,
   "metadata": {},
   "outputs": [],
   "source": [
    "# Perform inference using PEGASUS\n",
    "peg_summaries = peg_summarizer.generate_summary(three_samples[\"article\"])\n",
    "\n",
    "# Remove PEGASUS model from memory\n",
    "del peg_summarizer\n",
    "import torch\n",
    "torch.cuda.empty_cache()\n",
    "!nvidia-smi"
   ]
  },
  {
   "cell_type": "code",
   "execution_count": null,
   "metadata": {},
   "outputs": [],
   "source": [
    "# Compare generated summaries\n",
    "for idx in range(3):\n",
    "    print(f\"{idx+1}:\\n    Article: {three_samples['article'][idx]}\\n    GT Summary: {three_samples['highlights'][idx]}\\n    BART: {bart_summaries[idx]['summary_text']}\\n   PEGASUS: {peg_summaries[idx]['summary_text']}\")"
   ]
  }
 ],
 "metadata": {
  "language_info": {
   "name": "python"
  },
  "orig_nbformat": 4
 },
 "nbformat": 4,
 "nbformat_minor": 2
}
