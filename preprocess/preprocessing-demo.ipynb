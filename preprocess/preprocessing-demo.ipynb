{
 "cells": [
  {
   "attachments": {},
   "cell_type": "markdown",
   "metadata": {},
   "source": [
    "Examples of the Pegasus summary and the BART summary."
   ]
  },
  {
   "cell_type": "code",
   "execution_count": 1,
   "metadata": {},
   "outputs": [],
   "source": [
    "pegasus = \"The Palestinian 123rd Court ?<n>The move gives the Palestinian territories !<n>Palestinians signed the ICC's Rome in January .\"\n",
    "\n",
    "bart = \"The Palestinian 123rd Court. The move gives the Palestinian territories. Palestinians signed the ICC's Rome in January.\"\n",
    "\n",
    "apostrophe_issue = \"John Kerry 's test sample .\""
   ]
  },
  {
   "attachments": {},
   "cell_type": "markdown",
   "metadata": {},
   "source": [
    "From this example:\n",
    "- need to remove the \\<n>\n",
    "- delete the space before the fullstop at end of sentences "
   ]
  },
  {
   "cell_type": "code",
   "execution_count": 3,
   "metadata": {},
   "outputs": [],
   "source": [
    "from preprocess import removePegasusNewLine, movePeriod, pegasusToBart, moveApostrophe"
   ]
  },
  {
   "cell_type": "code",
   "execution_count": 3,
   "metadata": {},
   "outputs": [
    {
     "name": "stdout",
     "output_type": "stream",
     "text": [
      "The Palestinian 123rd Court ? The move gives the Palestinian territories ! Palestinians signed the ICC's Rome in January .\n",
      "The Palestinian 123rd Court? The move gives the Palestinian territories! Palestinians signed the ICC's Rome in January.\n"
     ]
    }
   ],
   "source": [
    "\n",
    "no_new_line_doc = removePegasusNewLine(pegasus)\n",
    "print(no_new_line_doc)\n",
    "moved_Punctuation = movePeriod(no_new_line_doc)\n",
    "print(moved_Punctuation)\n",
    "\n",
    "pegasus_to_bart = pegasusToBart(pegasus)\n",
    "print(pegasus_to_bart)\n",
    "\n",
    "\n"
   ]
  },
  {
   "cell_type": "code",
   "execution_count": 4,
   "metadata": {},
   "outputs": [
    {
     "name": "stdout",
     "output_type": "stream",
     "text": [
      "John Kerry's test sample .\n"
     ]
    }
   ],
   "source": [
    "print(moveApostrophe(apostrophe_issue))"
   ]
  }
 ],
 "metadata": {
  "kernelspec": {
   "display_name": "Python 3",
   "language": "python",
   "name": "python3"
  },
  "language_info": {
   "codemirror_mode": {
    "name": "ipython",
    "version": 3
   },
   "file_extension": ".py",
   "mimetype": "text/x-python",
   "name": "python",
   "nbconvert_exporter": "python",
   "pygments_lexer": "ipython3",
   "version": "3.10.4"
  },
  "orig_nbformat": 4
 },
 "nbformat": 4,
 "nbformat_minor": 2
}
