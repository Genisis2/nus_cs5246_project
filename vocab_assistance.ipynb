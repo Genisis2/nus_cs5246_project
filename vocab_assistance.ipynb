{
 "cells": [
  {
   "cell_type": "code",
   "execution_count": null,
   "metadata": {},
   "outputs": [],
   "source": [
    "import difflib\n",
    "import spacy\n",
    "from nltk.corpus import wordnet as wn\n",
    "nlp = spacy.load(\"en_core_web_lg\")\n"
   ]
  },
  {
   "cell_type": "code",
   "execution_count": null,
   "metadata": {},
   "outputs": [],
   "source": [
    "a='i love cats'\n",
    "b='i like dogs'"
   ]
  },
  {
   "cell_type": "code",
   "execution_count": null,
   "metadata": {},
   "outputs": [],
   "source": [
    "a='Theia, a one-year-old bully breed mix, was hit by a car and buried in a field.'\n",
    "b='Theia , a one-year-old breed mix , was hit by a car . It was buried in a field'"
   ]
  },
  {
   "cell_type": "code",
   "execution_count": null,
   "metadata": {},
   "outputs": [],
   "source": [
    "doc_a = nlp(a)\n",
    "doc_b = nlp(b)"
   ]
  },
  {
   "cell_type": "code",
   "execution_count": null,
   "metadata": {},
   "outputs": [],
   "source": [
    "d = difflib.Differ()\n",
    "\n",
    "diff = d.compare([a.text for a in doc_a], [b.text for b in doc_b])"
   ]
  },
  {
   "cell_type": "code",
   "execution_count": null,
   "metadata": {},
   "outputs": [],
   "source": [
    "deleted = []\n",
    "replaced = []\n",
    "for i,s in enumerate(diff):\n",
    "    if s[0]=='-':\n",
    "        word = s[2:]\n",
    "        for w in doc_a:\n",
    "            if w.text==word and not w.is_stop and not w.is_punct:\n",
    "                deleted.append(w)\n",
    "    if s[0]=='+':\n",
    "        word = s[2:]\n",
    "        for w in doc_b:\n",
    "            if w.text == word and not w.is_stop and not w.is_punct:\n",
    "                replaced.append(w)\n",
    "        \n",
    "print(deleted)       \n",
    "print(replaced)  "
   ]
  },
  {
   "cell_type": "code",
   "execution_count": null,
   "metadata": {},
   "outputs": [],
   "source": [
    "for del_word in deleted:\n",
    "    syns = wn.synsets(del_word.text)\n",
    "    print( \"Meaning of deleted word '{}': {}\" .format(del_word.text, syns[0].definition()))"
   ]
  }
 ],
 "metadata": {
  "kernelspec": {
   "display_name": "Python 3",
   "language": "python",
   "name": "python3"
  },
  "language_info": {
   "codemirror_mode": {
    "name": "ipython",
    "version": 3
   },
   "file_extension": ".py",
   "mimetype": "text/x-python",
   "name": "python",
   "nbconvert_exporter": "python",
   "pygments_lexer": "ipython3",
   "version": "3.8.5"
  }
 },
 "nbformat": 4,
 "nbformat_minor": 4
}
