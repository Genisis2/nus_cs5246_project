{
 "cells": [
  {
   "cell_type": "code",
   "execution_count": 1,
   "metadata": {},
   "outputs": [],
   "source": [
    "import difflib\n",
    "from nltk import pos_tag\n",
    "from nltk.corpus import wordnet as wn"
   ]
  },
  {
   "cell_type": "code",
   "execution_count": 2,
   "metadata": {},
   "outputs": [],
   "source": [
    "a='i love cats'\n",
    "b='i like dogs'"
   ]
  },
  {
   "cell_type": "code",
   "execution_count": 3,
   "metadata": {},
   "outputs": [],
   "source": [
    "tokens_tag_a = pos_tag(a.split())\n",
    "tokens_tag_b = pos_tag(b.split())"
   ]
  },
  {
   "cell_type": "code",
   "execution_count": 4,
   "metadata": {},
   "outputs": [],
   "source": [
    "d = difflib.Differ()\n",
    "\n",
    "diff = d.compare(a.split(), b.split())"
   ]
  },
  {
   "cell_type": "code",
   "execution_count": 5,
   "metadata": {},
   "outputs": [
    {
     "name": "stdout",
     "output_type": "stream",
     "text": [
      "{'VBP': ['love'], 'NNS': ['cats']}\n",
      "{'VBP': ['like'], 'NNS': ['dogs']}\n"
     ]
    }
   ],
   "source": [
    "deleted = {}\n",
    "replaced = {}\n",
    "for i,s in enumerate(diff):\n",
    "    if s[0]=='-':\n",
    "        word = s[2:]\n",
    "        for w in tokens_tag_a:\n",
    "            if w[0] == word:\n",
    "                if deleted.get(w[1]):\n",
    "                    deleted[w[1]].append(word)\n",
    "                else:\n",
    "                    deleted[w[1]] = [word]\n",
    "    if s[0]=='+':\n",
    "        word = s[2:]\n",
    "        for w in tokens_tag_b:\n",
    "            if w[0] == word:\n",
    "                if replaced.get(w[1]):\n",
    "                    replaced[w[1]].append(word)\n",
    "                else:\n",
    "                    replaced[w[1]] = [word]\n",
    "        \n",
    "print(deleted)       \n",
    "print(replaced)  "
   ]
  },
  {
   "cell_type": "code",
   "execution_count": 8,
   "metadata": {},
   "outputs": [
    {
     "name": "stdout",
     "output_type": "stream",
     "text": [
      "VBP\n",
      "NNS\n"
     ]
    }
   ],
   "source": [
    "for k,v in deleted.items():\n",
    "    del_w = deleted[k]\n",
    "    rep_w = replaced[k]\n",
    "    "
   ]
  }
 ],
 "metadata": {
  "kernelspec": {
   "display_name": "Python 3",
   "language": "python",
   "name": "python3"
  },
  "language_info": {
   "codemirror_mode": {
    "name": "ipython",
    "version": 3
   },
   "file_extension": ".py",
   "mimetype": "text/x-python",
   "name": "python",
   "nbconvert_exporter": "python",
   "pygments_lexer": "ipython3",
   "version": "3.8.5"
  }
 },
 "nbformat": 4,
 "nbformat_minor": 4
}
